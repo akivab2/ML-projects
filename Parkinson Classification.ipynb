{
 "cells": [
  {
   "cell_type": "markdown",
   "id": "528184ad",
   "metadata": {},
   "source": [
    "## classify parkinsons according to voice recordings"
   ]
  },
  {
   "cell_type": "code",
   "execution_count": 33,
   "id": "5ae1b1e6",
   "metadata": {},
   "outputs": [],
   "source": [
    "# imports\n",
    "import numpy as np\n",
    "import pandas as pd\n",
    "import os, sys\n",
    "from sklearn.preprocessing import MinMaxScaler\n",
    "from xgboost import XGBClassifier\n",
    "from sklearn.model_selection import train_test_split\n",
    "from sklearn.metrics import accuracy_score, confusion_matrix\n",
    "from bayes_opt import BayesianOptimization\n",
    "from sklearn.model_selection import cross_validate, cross_val_score"
   ]
  },
  {
   "cell_type": "code",
   "execution_count": 2,
   "id": "334a6bc6",
   "metadata": {},
   "outputs": [
    {
     "data": {
      "text/html": [
       "<div>\n",
       "<style scoped>\n",
       "    .dataframe tbody tr th:only-of-type {\n",
       "        vertical-align: middle;\n",
       "    }\n",
       "\n",
       "    .dataframe tbody tr th {\n",
       "        vertical-align: top;\n",
       "    }\n",
       "\n",
       "    .dataframe thead th {\n",
       "        text-align: right;\n",
       "    }\n",
       "</style>\n",
       "<table border=\"1\" class=\"dataframe\">\n",
       "  <thead>\n",
       "    <tr style=\"text-align: right;\">\n",
       "      <th></th>\n",
       "      <th>name</th>\n",
       "      <th>MDVP:Fo(Hz)</th>\n",
       "      <th>MDVP:Fhi(Hz)</th>\n",
       "      <th>MDVP:Flo(Hz)</th>\n",
       "      <th>MDVP:Jitter(%)</th>\n",
       "      <th>MDVP:Jitter(Abs)</th>\n",
       "      <th>MDVP:RAP</th>\n",
       "      <th>MDVP:PPQ</th>\n",
       "      <th>Jitter:DDP</th>\n",
       "      <th>MDVP:Shimmer</th>\n",
       "      <th>...</th>\n",
       "      <th>Shimmer:DDA</th>\n",
       "      <th>NHR</th>\n",
       "      <th>HNR</th>\n",
       "      <th>status</th>\n",
       "      <th>RPDE</th>\n",
       "      <th>DFA</th>\n",
       "      <th>spread1</th>\n",
       "      <th>spread2</th>\n",
       "      <th>D2</th>\n",
       "      <th>PPE</th>\n",
       "    </tr>\n",
       "  </thead>\n",
       "  <tbody>\n",
       "    <tr>\n",
       "      <th>0</th>\n",
       "      <td>phon_R01_S01_1</td>\n",
       "      <td>119.992</td>\n",
       "      <td>157.302</td>\n",
       "      <td>74.997</td>\n",
       "      <td>0.00784</td>\n",
       "      <td>0.00007</td>\n",
       "      <td>0.00370</td>\n",
       "      <td>0.00554</td>\n",
       "      <td>0.01109</td>\n",
       "      <td>0.04374</td>\n",
       "      <td>...</td>\n",
       "      <td>0.06545</td>\n",
       "      <td>0.02211</td>\n",
       "      <td>21.033</td>\n",
       "      <td>1</td>\n",
       "      <td>0.414783</td>\n",
       "      <td>0.815285</td>\n",
       "      <td>-4.813031</td>\n",
       "      <td>0.266482</td>\n",
       "      <td>2.301442</td>\n",
       "      <td>0.284654</td>\n",
       "    </tr>\n",
       "    <tr>\n",
       "      <th>1</th>\n",
       "      <td>phon_R01_S01_2</td>\n",
       "      <td>122.400</td>\n",
       "      <td>148.650</td>\n",
       "      <td>113.819</td>\n",
       "      <td>0.00968</td>\n",
       "      <td>0.00008</td>\n",
       "      <td>0.00465</td>\n",
       "      <td>0.00696</td>\n",
       "      <td>0.01394</td>\n",
       "      <td>0.06134</td>\n",
       "      <td>...</td>\n",
       "      <td>0.09403</td>\n",
       "      <td>0.01929</td>\n",
       "      <td>19.085</td>\n",
       "      <td>1</td>\n",
       "      <td>0.458359</td>\n",
       "      <td>0.819521</td>\n",
       "      <td>-4.075192</td>\n",
       "      <td>0.335590</td>\n",
       "      <td>2.486855</td>\n",
       "      <td>0.368674</td>\n",
       "    </tr>\n",
       "    <tr>\n",
       "      <th>2</th>\n",
       "      <td>phon_R01_S01_3</td>\n",
       "      <td>116.682</td>\n",
       "      <td>131.111</td>\n",
       "      <td>111.555</td>\n",
       "      <td>0.01050</td>\n",
       "      <td>0.00009</td>\n",
       "      <td>0.00544</td>\n",
       "      <td>0.00781</td>\n",
       "      <td>0.01633</td>\n",
       "      <td>0.05233</td>\n",
       "      <td>...</td>\n",
       "      <td>0.08270</td>\n",
       "      <td>0.01309</td>\n",
       "      <td>20.651</td>\n",
       "      <td>1</td>\n",
       "      <td>0.429895</td>\n",
       "      <td>0.825288</td>\n",
       "      <td>-4.443179</td>\n",
       "      <td>0.311173</td>\n",
       "      <td>2.342259</td>\n",
       "      <td>0.332634</td>\n",
       "    </tr>\n",
       "    <tr>\n",
       "      <th>3</th>\n",
       "      <td>phon_R01_S01_4</td>\n",
       "      <td>116.676</td>\n",
       "      <td>137.871</td>\n",
       "      <td>111.366</td>\n",
       "      <td>0.00997</td>\n",
       "      <td>0.00009</td>\n",
       "      <td>0.00502</td>\n",
       "      <td>0.00698</td>\n",
       "      <td>0.01505</td>\n",
       "      <td>0.05492</td>\n",
       "      <td>...</td>\n",
       "      <td>0.08771</td>\n",
       "      <td>0.01353</td>\n",
       "      <td>20.644</td>\n",
       "      <td>1</td>\n",
       "      <td>0.434969</td>\n",
       "      <td>0.819235</td>\n",
       "      <td>-4.117501</td>\n",
       "      <td>0.334147</td>\n",
       "      <td>2.405554</td>\n",
       "      <td>0.368975</td>\n",
       "    </tr>\n",
       "    <tr>\n",
       "      <th>4</th>\n",
       "      <td>phon_R01_S01_5</td>\n",
       "      <td>116.014</td>\n",
       "      <td>141.781</td>\n",
       "      <td>110.655</td>\n",
       "      <td>0.01284</td>\n",
       "      <td>0.00011</td>\n",
       "      <td>0.00655</td>\n",
       "      <td>0.00908</td>\n",
       "      <td>0.01966</td>\n",
       "      <td>0.06425</td>\n",
       "      <td>...</td>\n",
       "      <td>0.10470</td>\n",
       "      <td>0.01767</td>\n",
       "      <td>19.649</td>\n",
       "      <td>1</td>\n",
       "      <td>0.417356</td>\n",
       "      <td>0.823484</td>\n",
       "      <td>-3.747787</td>\n",
       "      <td>0.234513</td>\n",
       "      <td>2.332180</td>\n",
       "      <td>0.410335</td>\n",
       "    </tr>\n",
       "  </tbody>\n",
       "</table>\n",
       "<p>5 rows × 24 columns</p>\n",
       "</div>"
      ],
      "text/plain": [
       "             name  MDVP:Fo(Hz)  MDVP:Fhi(Hz)  MDVP:Flo(Hz)  MDVP:Jitter(%)  \\\n",
       "0  phon_R01_S01_1      119.992       157.302        74.997         0.00784   \n",
       "1  phon_R01_S01_2      122.400       148.650       113.819         0.00968   \n",
       "2  phon_R01_S01_3      116.682       131.111       111.555         0.01050   \n",
       "3  phon_R01_S01_4      116.676       137.871       111.366         0.00997   \n",
       "4  phon_R01_S01_5      116.014       141.781       110.655         0.01284   \n",
       "\n",
       "   MDVP:Jitter(Abs)  MDVP:RAP  MDVP:PPQ  Jitter:DDP  MDVP:Shimmer  ...  \\\n",
       "0           0.00007   0.00370   0.00554     0.01109       0.04374  ...   \n",
       "1           0.00008   0.00465   0.00696     0.01394       0.06134  ...   \n",
       "2           0.00009   0.00544   0.00781     0.01633       0.05233  ...   \n",
       "3           0.00009   0.00502   0.00698     0.01505       0.05492  ...   \n",
       "4           0.00011   0.00655   0.00908     0.01966       0.06425  ...   \n",
       "\n",
       "   Shimmer:DDA      NHR     HNR  status      RPDE       DFA   spread1  \\\n",
       "0      0.06545  0.02211  21.033       1  0.414783  0.815285 -4.813031   \n",
       "1      0.09403  0.01929  19.085       1  0.458359  0.819521 -4.075192   \n",
       "2      0.08270  0.01309  20.651       1  0.429895  0.825288 -4.443179   \n",
       "3      0.08771  0.01353  20.644       1  0.434969  0.819235 -4.117501   \n",
       "4      0.10470  0.01767  19.649       1  0.417356  0.823484 -3.747787   \n",
       "\n",
       "    spread2        D2       PPE  \n",
       "0  0.266482  2.301442  0.284654  \n",
       "1  0.335590  2.486855  0.368674  \n",
       "2  0.311173  2.342259  0.332634  \n",
       "3  0.334147  2.405554  0.368975  \n",
       "4  0.234513  2.332180  0.410335  \n",
       "\n",
       "[5 rows x 24 columns]"
      ]
     },
     "execution_count": 2,
     "metadata": {},
     "output_type": "execute_result"
    }
   ],
   "source": [
    "# Read the data\n",
    "df = pd.read_csv('parkinsons.data')\n",
    "df.head()"
   ]
  },
  {
   "cell_type": "code",
   "execution_count": 3,
   "id": "3df8c923",
   "metadata": {},
   "outputs": [],
   "source": [
    "# Get the features and labels\n",
    "features = df.loc[:,df.columns!='status'].values[:,1:]\n",
    "labels = df.loc[:,'status'].values"
   ]
  },
  {
   "cell_type": "code",
   "execution_count": 11,
   "id": "abca4bf2",
   "metadata": {},
   "outputs": [
    {
     "name": "stdout",
     "output_type": "stream",
     "text": [
      "147 48\n"
     ]
    }
   ],
   "source": [
    "# Get the count of each label (0 and 1) in labels\n",
    "print(labels[labels==1].shape[0], labels[labels==0].shape[0])"
   ]
  },
  {
   "cell_type": "code",
   "execution_count": 14,
   "id": "bbd3adb4",
   "metadata": {},
   "outputs": [],
   "source": [
    "# Scale the features to between -1 and 1\n",
    "scaler = MinMaxScaler((-1,1))\n",
    "x = scaler.fit_transform(features)\n",
    "y = labels"
   ]
  },
  {
   "cell_type": "code",
   "execution_count": 17,
   "id": "f1824c53",
   "metadata": {},
   "outputs": [],
   "source": [
    "# Split the dataset\n",
    "x_train,x_test,y_train,y_test = train_test_split(x, y, test_size=0.2, random_state=7)"
   ]
  },
  {
   "cell_type": "code",
   "execution_count": 18,
   "id": "a8ce4224",
   "metadata": {},
   "outputs": [
    {
     "data": {
      "text/html": [
       "<style>#sk-container-id-1 {color: black;background-color: white;}#sk-container-id-1 pre{padding: 0;}#sk-container-id-1 div.sk-toggleable {background-color: white;}#sk-container-id-1 label.sk-toggleable__label {cursor: pointer;display: block;width: 100%;margin-bottom: 0;padding: 0.3em;box-sizing: border-box;text-align: center;}#sk-container-id-1 label.sk-toggleable__label-arrow:before {content: \"▸\";float: left;margin-right: 0.25em;color: #696969;}#sk-container-id-1 label.sk-toggleable__label-arrow:hover:before {color: black;}#sk-container-id-1 div.sk-estimator:hover label.sk-toggleable__label-arrow:before {color: black;}#sk-container-id-1 div.sk-toggleable__content {max-height: 0;max-width: 0;overflow: hidden;text-align: left;background-color: #f0f8ff;}#sk-container-id-1 div.sk-toggleable__content pre {margin: 0.2em;color: black;border-radius: 0.25em;background-color: #f0f8ff;}#sk-container-id-1 input.sk-toggleable__control:checked~div.sk-toggleable__content {max-height: 200px;max-width: 100%;overflow: auto;}#sk-container-id-1 input.sk-toggleable__control:checked~label.sk-toggleable__label-arrow:before {content: \"▾\";}#sk-container-id-1 div.sk-estimator input.sk-toggleable__control:checked~label.sk-toggleable__label {background-color: #d4ebff;}#sk-container-id-1 div.sk-label input.sk-toggleable__control:checked~label.sk-toggleable__label {background-color: #d4ebff;}#sk-container-id-1 input.sk-hidden--visually {border: 0;clip: rect(1px 1px 1px 1px);clip: rect(1px, 1px, 1px, 1px);height: 1px;margin: -1px;overflow: hidden;padding: 0;position: absolute;width: 1px;}#sk-container-id-1 div.sk-estimator {font-family: monospace;background-color: #f0f8ff;border: 1px dotted black;border-radius: 0.25em;box-sizing: border-box;margin-bottom: 0.5em;}#sk-container-id-1 div.sk-estimator:hover {background-color: #d4ebff;}#sk-container-id-1 div.sk-parallel-item::after {content: \"\";width: 100%;border-bottom: 1px solid gray;flex-grow: 1;}#sk-container-id-1 div.sk-label:hover label.sk-toggleable__label {background-color: #d4ebff;}#sk-container-id-1 div.sk-serial::before {content: \"\";position: absolute;border-left: 1px solid gray;box-sizing: border-box;top: 0;bottom: 0;left: 50%;z-index: 0;}#sk-container-id-1 div.sk-serial {display: flex;flex-direction: column;align-items: center;background-color: white;padding-right: 0.2em;padding-left: 0.2em;position: relative;}#sk-container-id-1 div.sk-item {position: relative;z-index: 1;}#sk-container-id-1 div.sk-parallel {display: flex;align-items: stretch;justify-content: center;background-color: white;position: relative;}#sk-container-id-1 div.sk-item::before, #sk-container-id-1 div.sk-parallel-item::before {content: \"\";position: absolute;border-left: 1px solid gray;box-sizing: border-box;top: 0;bottom: 0;left: 50%;z-index: -1;}#sk-container-id-1 div.sk-parallel-item {display: flex;flex-direction: column;z-index: 1;position: relative;background-color: white;}#sk-container-id-1 div.sk-parallel-item:first-child::after {align-self: flex-end;width: 50%;}#sk-container-id-1 div.sk-parallel-item:last-child::after {align-self: flex-start;width: 50%;}#sk-container-id-1 div.sk-parallel-item:only-child::after {width: 0;}#sk-container-id-1 div.sk-dashed-wrapped {border: 1px dashed gray;margin: 0 0.4em 0.5em 0.4em;box-sizing: border-box;padding-bottom: 0.4em;background-color: white;}#sk-container-id-1 div.sk-label label {font-family: monospace;font-weight: bold;display: inline-block;line-height: 1.2em;}#sk-container-id-1 div.sk-label-container {text-align: center;}#sk-container-id-1 div.sk-container {/* jupyter's `normalize.less` sets `[hidden] { display: none; }` but bootstrap.min.css set `[hidden] { display: none !important; }` so we also need the `!important` here to be able to override the default hidden behavior on the sphinx rendered scikit-learn.org. See: https://github.com/scikit-learn/scikit-learn/issues/21755 */display: inline-block !important;position: relative;}#sk-container-id-1 div.sk-text-repr-fallback {display: none;}</style><div id=\"sk-container-id-1\" class=\"sk-top-container\"><div class=\"sk-text-repr-fallback\"><pre>XGBClassifier(base_score=None, booster=None, callbacks=None,\n",
       "              colsample_bylevel=None, colsample_bynode=None,\n",
       "              colsample_bytree=None, early_stopping_rounds=None,\n",
       "              enable_categorical=False, eval_metric=None, feature_types=None,\n",
       "              gamma=None, gpu_id=None, grow_policy=None, importance_type=None,\n",
       "              interaction_constraints=None, learning_rate=None, max_bin=None,\n",
       "              max_cat_threshold=None, max_cat_to_onehot=None,\n",
       "              max_delta_step=None, max_depth=None, max_leaves=None,\n",
       "              min_child_weight=None, missing=nan, monotone_constraints=None,\n",
       "              n_estimators=100, n_jobs=None, num_parallel_tree=None,\n",
       "              predictor=None, random_state=None, ...)</pre><b>In a Jupyter environment, please rerun this cell to show the HTML representation or trust the notebook. <br />On GitHub, the HTML representation is unable to render, please try loading this page with nbviewer.org.</b></div><div class=\"sk-container\" hidden><div class=\"sk-item\"><div class=\"sk-estimator sk-toggleable\"><input class=\"sk-toggleable__control sk-hidden--visually\" id=\"sk-estimator-id-1\" type=\"checkbox\" checked><label for=\"sk-estimator-id-1\" class=\"sk-toggleable__label sk-toggleable__label-arrow\">XGBClassifier</label><div class=\"sk-toggleable__content\"><pre>XGBClassifier(base_score=None, booster=None, callbacks=None,\n",
       "              colsample_bylevel=None, colsample_bynode=None,\n",
       "              colsample_bytree=None, early_stopping_rounds=None,\n",
       "              enable_categorical=False, eval_metric=None, feature_types=None,\n",
       "              gamma=None, gpu_id=None, grow_policy=None, importance_type=None,\n",
       "              interaction_constraints=None, learning_rate=None, max_bin=None,\n",
       "              max_cat_threshold=None, max_cat_to_onehot=None,\n",
       "              max_delta_step=None, max_depth=None, max_leaves=None,\n",
       "              min_child_weight=None, missing=nan, monotone_constraints=None,\n",
       "              n_estimators=100, n_jobs=None, num_parallel_tree=None,\n",
       "              predictor=None, random_state=None, ...)</pre></div></div></div></div></div>"
      ],
      "text/plain": [
       "XGBClassifier(base_score=None, booster=None, callbacks=None,\n",
       "              colsample_bylevel=None, colsample_bynode=None,\n",
       "              colsample_bytree=None, early_stopping_rounds=None,\n",
       "              enable_categorical=False, eval_metric=None, feature_types=None,\n",
       "              gamma=None, gpu_id=None, grow_policy=None, importance_type=None,\n",
       "              interaction_constraints=None, learning_rate=None, max_bin=None,\n",
       "              max_cat_threshold=None, max_cat_to_onehot=None,\n",
       "              max_delta_step=None, max_depth=None, max_leaves=None,\n",
       "              min_child_weight=None, missing=nan, monotone_constraints=None,\n",
       "              n_estimators=100, n_jobs=None, num_parallel_tree=None,\n",
       "              predictor=None, random_state=None, ...)"
      ]
     },
     "execution_count": 18,
     "metadata": {},
     "output_type": "execute_result"
    }
   ],
   "source": [
    "# Train the model\n",
    "model = XGBClassifier()\n",
    "model.fit(x_train, y_train)"
   ]
  },
  {
   "cell_type": "code",
   "execution_count": null,
   "id": "a89f6b12",
   "metadata": {},
   "outputs": [],
   "source": [
    "# predict and Calculate the accuracy\n",
    "y_pred = model.predict(x_test)"
   ]
  },
  {
   "cell_type": "code",
   "execution_count": 19,
   "id": "639669ea",
   "metadata": {},
   "outputs": [
    {
     "name": "stdout",
     "output_type": "stream",
     "text": [
      "94.87179487179486\n"
     ]
    }
   ],
   "source": [
    "# get the accuracy score for test predictions\n",
    "accuracy_score=accuracy_score(y_test, y_pred)\n",
    "print(f'Accuracy: {round(accuracy_score*100,2)}%')"
   ]
  },
  {
   "cell_type": "markdown",
   "id": "ae26bc09",
   "metadata": {},
   "source": [
    "try to optimize hyperparameters of xgboost for getting better accuracy score:"
   ]
  },
  {
   "cell_type": "code",
   "execution_count": 20,
   "id": "92bbc644",
   "metadata": {},
   "outputs": [],
   "source": [
    "# cross validation function for xgboost classifier, estimates the results of the classifier and calculates the mean cross validation score\n",
    "def xgboost_cv(n_estimators, max_depth, gamma, subsample, data, targets):\n",
    "    estimator = XGBClassifier(\n",
    "        n_estimators=n_estimators,\n",
    "        max_depth = max_depth,\n",
    "        gamma = gamma,\n",
    "        # min_child_weight=min_child_weight,\n",
    "        subsample = subsample,\n",
    "        random_state = 2,\n",
    "    )\n",
    "    cval = cross_val_score(estimator, data, targets, cv=5)\n",
    "    return cval.mean()"
   ]
  },
  {
   "cell_type": "code",
   "execution_count": 21,
   "id": "336e362b",
   "metadata": {},
   "outputs": [],
   "source": [
    "# using bayesian optimizer, calculate the cross validation for different hyperparameter values, return the best values\n",
    "\n",
    "# the black box function here is xgboost_crossval, and it is defined inside the optimize_xgboost function since it needs to use\n",
    "# the data that is given to optimize_xgboost and the data has to be in the xgboost_crossval's scope\n",
    "def optimize_xgboost(data, targets):\n",
    "    def xgboost_crossval(n_estimators, max_depth, gamma, subsample):\n",
    "        return xgboost_cv(\n",
    "            n_estimators=int(n_estimators),\n",
    "            max_depth = int(max_depth),\n",
    "            gamma = gamma,\n",
    "            # min_child_weight=min_child_weight,\n",
    "            subsample=subsample,\n",
    "            data=data,\n",
    "            targets=targets,\n",
    "        )\n",
    "\n",
    "    optimizer = BayesianOptimization(\n",
    "        f=xgboost_crossval,\n",
    "        pbounds={\n",
    "            \"n_estimators\": (100, 500),\n",
    "            \"max_depth\": (6,15),\n",
    "            \"gamma\": (0,10),\n",
    "            # \"min_child_weight\": (0,10),\n",
    "            \"subsample\": (0.8,1.0)\n",
    "        },\n",
    "        verbose=2\n",
    "    )\n",
    "    optimizer.maximize(n_iter=25, init_points=10)\n",
    "\n",
    "    print(\"Final result:\", optimizer.max)"
   ]
  },
  {
   "cell_type": "code",
   "execution_count": 26,
   "id": "9142086f",
   "metadata": {},
   "outputs": [
    {
     "name": "stdout",
     "output_type": "stream",
     "text": [
      "--- Optimizing XGBoost ---\n",
      "|   iter    |  target   |   gamma   | max_depth | n_esti... | subsample |\n",
      "-------------------------------------------------------------------------\n",
      "| \u001b[0m1        \u001b[0m | \u001b[0m0.878    \u001b[0m | \u001b[0m3.809    \u001b[0m | \u001b[0m6.203    \u001b[0m | \u001b[0m188.1    \u001b[0m | \u001b[0m0.9653   \u001b[0m |\n",
      "| \u001b[0m2        \u001b[0m | \u001b[0m0.8587   \u001b[0m | \u001b[0m5.679    \u001b[0m | \u001b[0m8.334    \u001b[0m | \u001b[0m230.8    \u001b[0m | \u001b[0m0.9452   \u001b[0m |\n",
      "| \u001b[0m3        \u001b[0m | \u001b[0m0.8141   \u001b[0m | \u001b[0m9.455    \u001b[0m | \u001b[0m8.365    \u001b[0m | \u001b[0m182.9    \u001b[0m | \u001b[0m0.9678   \u001b[0m |\n",
      "| \u001b[0m4        \u001b[0m | \u001b[0m0.8718   \u001b[0m | \u001b[0m4.578    \u001b[0m | \u001b[0m13.71    \u001b[0m | \u001b[0m366.4    \u001b[0m | \u001b[0m0.8013   \u001b[0m |\n",
      "| \u001b[0m5        \u001b[0m | \u001b[0m0.8524   \u001b[0m | \u001b[0m6.587    \u001b[0m | \u001b[0m8.341    \u001b[0m | \u001b[0m362.5    \u001b[0m | \u001b[0m0.9403   \u001b[0m |\n",
      "| \u001b[0m6        \u001b[0m | \u001b[0m0.8397   \u001b[0m | \u001b[0m6.015    \u001b[0m | \u001b[0m12.49    \u001b[0m | \u001b[0m226.2    \u001b[0m | \u001b[0m0.8075   \u001b[0m |\n",
      "| \u001b[0m7        \u001b[0m | \u001b[0m0.8714   \u001b[0m | \u001b[0m2.652    \u001b[0m | \u001b[0m8.298    \u001b[0m | \u001b[0m477.1    \u001b[0m | \u001b[0m0.8528   \u001b[0m |\n",
      "| \u001b[0m8        \u001b[0m | \u001b[0m0.8716   \u001b[0m | \u001b[0m4.334    \u001b[0m | \u001b[0m12.83    \u001b[0m | \u001b[0m334.4    \u001b[0m | \u001b[0m0.8995   \u001b[0m |\n",
      "| \u001b[0m9        \u001b[0m | \u001b[0m0.8716   \u001b[0m | \u001b[0m3.65     \u001b[0m | \u001b[0m6.828    \u001b[0m | \u001b[0m200.5    \u001b[0m | \u001b[0m0.9626   \u001b[0m |\n",
      "| \u001b[0m10       \u001b[0m | \u001b[0m0.8522   \u001b[0m | \u001b[0m5.657    \u001b[0m | \u001b[0m13.61    \u001b[0m | \u001b[0m186.2    \u001b[0m | \u001b[0m0.8686   \u001b[0m |\n",
      "| \u001b[0m11       \u001b[0m | \u001b[0m0.8716   \u001b[0m | \u001b[0m1.91     \u001b[0m | \u001b[0m13.77    \u001b[0m | \u001b[0m206.5    \u001b[0m | \u001b[0m0.9782   \u001b[0m |\n",
      "| \u001b[0m12       \u001b[0m | \u001b[0m0.8395   \u001b[0m | \u001b[0m4.929    \u001b[0m | \u001b[0m7.137    \u001b[0m | \u001b[0m186.8    \u001b[0m | \u001b[0m0.9872   \u001b[0m |\n",
      "| \u001b[0m13       \u001b[0m | \u001b[0m0.8524   \u001b[0m | \u001b[0m3.883    \u001b[0m | \u001b[0m10.73    \u001b[0m | \u001b[0m105.8    \u001b[0m | \u001b[0m0.802    \u001b[0m |\n",
      "| \u001b[0m14       \u001b[0m | \u001b[0m0.8524   \u001b[0m | \u001b[0m4.656    \u001b[0m | \u001b[0m12.9     \u001b[0m | \u001b[0m227.6    \u001b[0m | \u001b[0m0.9114   \u001b[0m |\n",
      "| \u001b[95m15       \u001b[0m | \u001b[95m0.9294   \u001b[0m | \u001b[95m0.154    \u001b[0m | \u001b[95m7.494    \u001b[0m | \u001b[95m300.6    \u001b[0m | \u001b[95m0.8138   \u001b[0m |\n",
      "| \u001b[0m16       \u001b[0m | \u001b[0m0.8653   \u001b[0m | \u001b[0m6.166    \u001b[0m | \u001b[0m14.76    \u001b[0m | \u001b[0m346.1    \u001b[0m | \u001b[0m0.8831   \u001b[0m |\n",
      "| \u001b[0m17       \u001b[0m | \u001b[0m0.878    \u001b[0m | \u001b[0m4.637    \u001b[0m | \u001b[0m10.61    \u001b[0m | \u001b[0m455.9    \u001b[0m | \u001b[0m0.8783   \u001b[0m |\n",
      "| \u001b[0m18       \u001b[0m | \u001b[0m0.8911   \u001b[0m | \u001b[0m1.913    \u001b[0m | \u001b[0m11.48    \u001b[0m | \u001b[0m169.6    \u001b[0m | \u001b[0m0.8143   \u001b[0m |\n",
      "| \u001b[0m19       \u001b[0m | \u001b[0m0.8458   \u001b[0m | \u001b[0m9.641    \u001b[0m | \u001b[0m14.18    \u001b[0m | \u001b[0m338.3    \u001b[0m | \u001b[0m0.896    \u001b[0m |\n",
      "| \u001b[0m20       \u001b[0m | \u001b[0m0.8651   \u001b[0m | \u001b[0m4.581    \u001b[0m | \u001b[0m12.78    \u001b[0m | \u001b[0m334.7    \u001b[0m | \u001b[0m0.9319   \u001b[0m |\n",
      "| \u001b[0m21       \u001b[0m | \u001b[0m0.8909   \u001b[0m | \u001b[0m0.4772   \u001b[0m | \u001b[0m8.216    \u001b[0m | \u001b[0m300.8    \u001b[0m | \u001b[0m0.8564   \u001b[0m |\n",
      "| \u001b[0m22       \u001b[0m | \u001b[0m0.9103   \u001b[0m | \u001b[0m0.6374   \u001b[0m | \u001b[0m7.424    \u001b[0m | \u001b[0m301.7    \u001b[0m | \u001b[0m0.8659   \u001b[0m |\n",
      "| \u001b[0m23       \u001b[0m | \u001b[0m0.9294   \u001b[0m | \u001b[0m0.1419   \u001b[0m | \u001b[0m6.331    \u001b[0m | \u001b[0m301.4    \u001b[0m | \u001b[0m0.8273   \u001b[0m |\n",
      "| \u001b[0m24       \u001b[0m | \u001b[0m0.9167   \u001b[0m | \u001b[0m0.1599   \u001b[0m | \u001b[0m6.382    \u001b[0m | \u001b[0m300.0    \u001b[0m | \u001b[0m0.8      \u001b[0m |\n",
      "| \u001b[0m25       \u001b[0m | \u001b[0m0.8909   \u001b[0m | \u001b[0m1.989    \u001b[0m | \u001b[0m6.477    \u001b[0m | \u001b[0m300.5    \u001b[0m | \u001b[0m0.943    \u001b[0m |\n",
      "| \u001b[0m26       \u001b[0m | \u001b[0m0.8974   \u001b[0m | \u001b[0m0.9454   \u001b[0m | \u001b[0m7.624    \u001b[0m | \u001b[0m298.0    \u001b[0m | \u001b[0m0.9133   \u001b[0m |\n",
      "| \u001b[0m27       \u001b[0m | \u001b[0m0.9294   \u001b[0m | \u001b[0m0.1457   \u001b[0m | \u001b[0m6.36     \u001b[0m | \u001b[0m302.2    \u001b[0m | \u001b[0m0.8799   \u001b[0m |\n",
      "| \u001b[0m28       \u001b[0m | \u001b[0m0.878    \u001b[0m | \u001b[0m2.154    \u001b[0m | \u001b[0m6.095    \u001b[0m | \u001b[0m304.0    \u001b[0m | \u001b[0m0.9765   \u001b[0m |\n",
      "| \u001b[0m29       \u001b[0m | \u001b[0m0.923    \u001b[0m | \u001b[0m0.05604  \u001b[0m | \u001b[0m6.65     \u001b[0m | \u001b[0m295.2    \u001b[0m | \u001b[0m0.8411   \u001b[0m |\n",
      "| \u001b[0m30       \u001b[0m | \u001b[0m0.878    \u001b[0m | \u001b[0m1.804    \u001b[0m | \u001b[0m6.646    \u001b[0m | \u001b[0m294.4    \u001b[0m | \u001b[0m0.979    \u001b[0m |\n",
      "| \u001b[0m31       \u001b[0m | \u001b[0m0.9232   \u001b[0m | \u001b[0m0.3602   \u001b[0m | \u001b[0m8.817    \u001b[0m | \u001b[0m295.3    \u001b[0m | \u001b[0m0.8787   \u001b[0m |\n",
      "| \u001b[0m32       \u001b[0m | \u001b[0m0.9294   \u001b[0m | \u001b[0m0.3575   \u001b[0m | \u001b[0m8.789    \u001b[0m | \u001b[0m293.3    \u001b[0m | \u001b[0m0.8493   \u001b[0m |\n",
      "| \u001b[0m33       \u001b[0m | \u001b[0m0.9167   \u001b[0m | \u001b[0m0.3134   \u001b[0m | \u001b[0m10.6     \u001b[0m | \u001b[0m293.9    \u001b[0m | \u001b[0m0.8771   \u001b[0m |\n",
      "| \u001b[0m34       \u001b[0m | \u001b[0m0.9294   \u001b[0m | \u001b[0m0.0      \u001b[0m | \u001b[0m9.79     \u001b[0m | \u001b[0m291.5    \u001b[0m | \u001b[0m0.8      \u001b[0m |\n",
      "| \u001b[0m35       \u001b[0m | \u001b[0m0.9101   \u001b[0m | \u001b[0m1.879    \u001b[0m | \u001b[0m9.797    \u001b[0m | \u001b[0m291.1    \u001b[0m | \u001b[0m0.9499   \u001b[0m |\n",
      "=========================================================================\n",
      "Final result: {'target': 0.9294354838709677, 'params': {'gamma': 0.15402397887309238, 'max_depth': 7.494358956998528, 'n_estimators': 300.58321077052517, 'subsample': 0.8138226189882082}}\n"
     ]
    }
   ],
   "source": [
    "# get the optimized hyperparameters for xgboost\n",
    "print(\"--- Optimizing XGBoost ---\")\n",
    "# optimize_xgboost(tfidf_all, y_all_binary)\n",
    "optimize_xgboost(x_train, y_train)"
   ]
  },
  {
   "cell_type": "code",
   "execution_count": 27,
   "id": "5da17bb3",
   "metadata": {},
   "outputs": [],
   "source": [
    "# using the optimized hyperparameters, run the xgbclassifier\n",
    "# spam_xg = XGBClassifier(gamma=0, max_depth=6, n_estimators=202, subsample=1)\n",
    "xg = XGBClassifier(gamma=0.15, max_depth=7, n_estimators=300, subsample=1)"
   ]
  },
  {
   "cell_type": "code",
   "execution_count": 28,
   "id": "9e3fa4e1",
   "metadata": {
    "scrolled": true
   },
   "outputs": [
    {
     "data": {
      "text/html": [
       "<style>#sk-container-id-2 {color: black;background-color: white;}#sk-container-id-2 pre{padding: 0;}#sk-container-id-2 div.sk-toggleable {background-color: white;}#sk-container-id-2 label.sk-toggleable__label {cursor: pointer;display: block;width: 100%;margin-bottom: 0;padding: 0.3em;box-sizing: border-box;text-align: center;}#sk-container-id-2 label.sk-toggleable__label-arrow:before {content: \"▸\";float: left;margin-right: 0.25em;color: #696969;}#sk-container-id-2 label.sk-toggleable__label-arrow:hover:before {color: black;}#sk-container-id-2 div.sk-estimator:hover label.sk-toggleable__label-arrow:before {color: black;}#sk-container-id-2 div.sk-toggleable__content {max-height: 0;max-width: 0;overflow: hidden;text-align: left;background-color: #f0f8ff;}#sk-container-id-2 div.sk-toggleable__content pre {margin: 0.2em;color: black;border-radius: 0.25em;background-color: #f0f8ff;}#sk-container-id-2 input.sk-toggleable__control:checked~div.sk-toggleable__content {max-height: 200px;max-width: 100%;overflow: auto;}#sk-container-id-2 input.sk-toggleable__control:checked~label.sk-toggleable__label-arrow:before {content: \"▾\";}#sk-container-id-2 div.sk-estimator input.sk-toggleable__control:checked~label.sk-toggleable__label {background-color: #d4ebff;}#sk-container-id-2 div.sk-label input.sk-toggleable__control:checked~label.sk-toggleable__label {background-color: #d4ebff;}#sk-container-id-2 input.sk-hidden--visually {border: 0;clip: rect(1px 1px 1px 1px);clip: rect(1px, 1px, 1px, 1px);height: 1px;margin: -1px;overflow: hidden;padding: 0;position: absolute;width: 1px;}#sk-container-id-2 div.sk-estimator {font-family: monospace;background-color: #f0f8ff;border: 1px dotted black;border-radius: 0.25em;box-sizing: border-box;margin-bottom: 0.5em;}#sk-container-id-2 div.sk-estimator:hover {background-color: #d4ebff;}#sk-container-id-2 div.sk-parallel-item::after {content: \"\";width: 100%;border-bottom: 1px solid gray;flex-grow: 1;}#sk-container-id-2 div.sk-label:hover label.sk-toggleable__label {background-color: #d4ebff;}#sk-container-id-2 div.sk-serial::before {content: \"\";position: absolute;border-left: 1px solid gray;box-sizing: border-box;top: 0;bottom: 0;left: 50%;z-index: 0;}#sk-container-id-2 div.sk-serial {display: flex;flex-direction: column;align-items: center;background-color: white;padding-right: 0.2em;padding-left: 0.2em;position: relative;}#sk-container-id-2 div.sk-item {position: relative;z-index: 1;}#sk-container-id-2 div.sk-parallel {display: flex;align-items: stretch;justify-content: center;background-color: white;position: relative;}#sk-container-id-2 div.sk-item::before, #sk-container-id-2 div.sk-parallel-item::before {content: \"\";position: absolute;border-left: 1px solid gray;box-sizing: border-box;top: 0;bottom: 0;left: 50%;z-index: -1;}#sk-container-id-2 div.sk-parallel-item {display: flex;flex-direction: column;z-index: 1;position: relative;background-color: white;}#sk-container-id-2 div.sk-parallel-item:first-child::after {align-self: flex-end;width: 50%;}#sk-container-id-2 div.sk-parallel-item:last-child::after {align-self: flex-start;width: 50%;}#sk-container-id-2 div.sk-parallel-item:only-child::after {width: 0;}#sk-container-id-2 div.sk-dashed-wrapped {border: 1px dashed gray;margin: 0 0.4em 0.5em 0.4em;box-sizing: border-box;padding-bottom: 0.4em;background-color: white;}#sk-container-id-2 div.sk-label label {font-family: monospace;font-weight: bold;display: inline-block;line-height: 1.2em;}#sk-container-id-2 div.sk-label-container {text-align: center;}#sk-container-id-2 div.sk-container {/* jupyter's `normalize.less` sets `[hidden] { display: none; }` but bootstrap.min.css set `[hidden] { display: none !important; }` so we also need the `!important` here to be able to override the default hidden behavior on the sphinx rendered scikit-learn.org. See: https://github.com/scikit-learn/scikit-learn/issues/21755 */display: inline-block !important;position: relative;}#sk-container-id-2 div.sk-text-repr-fallback {display: none;}</style><div id=\"sk-container-id-2\" class=\"sk-top-container\"><div class=\"sk-text-repr-fallback\"><pre>XGBClassifier(base_score=None, booster=None, callbacks=None,\n",
       "              colsample_bylevel=None, colsample_bynode=None,\n",
       "              colsample_bytree=None, early_stopping_rounds=None,\n",
       "              enable_categorical=False, eval_metric=None, feature_types=None,\n",
       "              gamma=0.15, gpu_id=None, grow_policy=None, importance_type=None,\n",
       "              interaction_constraints=None, learning_rate=None, max_bin=None,\n",
       "              max_cat_threshold=None, max_cat_to_onehot=None,\n",
       "              max_delta_step=None, max_depth=7, max_leaves=None,\n",
       "              min_child_weight=None, missing=nan, monotone_constraints=None,\n",
       "              n_estimators=300, n_jobs=None, num_parallel_tree=None,\n",
       "              predictor=None, random_state=None, ...)</pre><b>In a Jupyter environment, please rerun this cell to show the HTML representation or trust the notebook. <br />On GitHub, the HTML representation is unable to render, please try loading this page with nbviewer.org.</b></div><div class=\"sk-container\" hidden><div class=\"sk-item\"><div class=\"sk-estimator sk-toggleable\"><input class=\"sk-toggleable__control sk-hidden--visually\" id=\"sk-estimator-id-2\" type=\"checkbox\" checked><label for=\"sk-estimator-id-2\" class=\"sk-toggleable__label sk-toggleable__label-arrow\">XGBClassifier</label><div class=\"sk-toggleable__content\"><pre>XGBClassifier(base_score=None, booster=None, callbacks=None,\n",
       "              colsample_bylevel=None, colsample_bynode=None,\n",
       "              colsample_bytree=None, early_stopping_rounds=None,\n",
       "              enable_categorical=False, eval_metric=None, feature_types=None,\n",
       "              gamma=0.15, gpu_id=None, grow_policy=None, importance_type=None,\n",
       "              interaction_constraints=None, learning_rate=None, max_bin=None,\n",
       "              max_cat_threshold=None, max_cat_to_onehot=None,\n",
       "              max_delta_step=None, max_depth=7, max_leaves=None,\n",
       "              min_child_weight=None, missing=nan, monotone_constraints=None,\n",
       "              n_estimators=300, n_jobs=None, num_parallel_tree=None,\n",
       "              predictor=None, random_state=None, ...)</pre></div></div></div></div></div>"
      ],
      "text/plain": [
       "XGBClassifier(base_score=None, booster=None, callbacks=None,\n",
       "              colsample_bylevel=None, colsample_bynode=None,\n",
       "              colsample_bytree=None, early_stopping_rounds=None,\n",
       "              enable_categorical=False, eval_metric=None, feature_types=None,\n",
       "              gamma=0.15, gpu_id=None, grow_policy=None, importance_type=None,\n",
       "              interaction_constraints=None, learning_rate=None, max_bin=None,\n",
       "              max_cat_threshold=None, max_cat_to_onehot=None,\n",
       "              max_delta_step=None, max_depth=7, max_leaves=None,\n",
       "              min_child_weight=None, missing=nan, monotone_constraints=None,\n",
       "              n_estimators=300, n_jobs=None, num_parallel_tree=None,\n",
       "              predictor=None, random_state=None, ...)"
      ]
     },
     "execution_count": 28,
     "metadata": {},
     "output_type": "execute_result"
    }
   ],
   "source": [
    "# fit the training data to the xgboost classifier\n",
    "xg.fit(x_train, y_train)"
   ]
  },
  {
   "cell_type": "code",
   "execution_count": 29,
   "id": "a2b5d6f4",
   "metadata": {},
   "outputs": [],
   "source": [
    "# predict results for test data\n",
    "y_pred = xg.predict(x_test)"
   ]
  },
  {
   "cell_type": "code",
   "execution_count": 30,
   "id": "bc2246b0",
   "metadata": {},
   "outputs": [
    {
     "name": "stdout",
     "output_type": "stream",
     "text": [
      "Accuracy: 92.31%\n"
     ]
    }
   ],
   "source": [
    "# get the accuracy score for test predictions\n",
    "accuracy_score=accuracy_score(y_test, y_pred)\n",
    "print(f'Accuracy: {round(accuracy_score*100,2)}%')"
   ]
  },
  {
   "cell_type": "code",
   "execution_count": 34,
   "id": "252daedf",
   "metadata": {},
   "outputs": [
    {
     "data": {
      "text/plain": [
       "array([[ 5,  2],\n",
       "       [ 1, 31]], dtype=int64)"
      ]
     },
     "execution_count": 34,
     "metadata": {},
     "output_type": "execute_result"
    }
   ],
   "source": [
    "#Build confusion matrix\n",
    "confusion_matrix(y_test, y_pred, labels=[0, 1])"
   ]
  }
 ],
 "metadata": {
  "kernelspec": {
   "display_name": "Python 3 (ipykernel)",
   "language": "python",
   "name": "python3"
  },
  "language_info": {
   "codemirror_mode": {
    "name": "ipython",
    "version": 3
   },
   "file_extension": ".py",
   "mimetype": "text/x-python",
   "name": "python",
   "nbconvert_exporter": "python",
   "pygments_lexer": "ipython3",
   "version": "3.9.16"
  }
 },
 "nbformat": 4,
 "nbformat_minor": 5
}
